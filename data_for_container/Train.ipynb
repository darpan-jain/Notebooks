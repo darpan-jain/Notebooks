{
 "cells": [
  {
   "cell_type": "code",
   "execution_count": 2,
   "metadata": {
    "ExecuteTime": {
     "end_time": "2020-02-10T18:56:19.352033Z",
     "start_time": "2020-02-10T18:56:19.302370Z"
    }
   },
   "outputs": [],
   "source": [
    "import numpy as np\n",
    "import matplotlib.pyplot as plt\n",
    "from subprocess import call\n",
    "from datetime import datetime\n",
    "import os\n",
    "import json\n",
    "import glob"
   ]
  },
  {
   "cell_type": "code",
   "execution_count": 5,
   "metadata": {},
   "outputs": [],
   "source": [
    "all_cols = ['luma_avg', 'luma_change_ratio', 'kld_hist_2frames', 'vertical_black_values',\n",
    "            'horizontal_black_values', 'crU_change_ratio', 'crV_change_ratio', 'crU_avg',\n",
    "            'crV_avg', 'AvgB', 'AvgG', 'AvgR', 'KLD_histB', 'KLD_histG', 'KLD_histR', 'Time']\n",
    "cols = ['luma_avg', 'kld_hist_2frames', 'horizontal_black_values', 'crU_change_ratio',\n",
    "            'avgG', 'kld_hist_pattern', 'time']\n",
    "aztv = '/home/abcd/Documents/AdSparx/data/aztv/aztv_new_src/'\n",
    "kdoc = '/home/abcd/Documents/AdSparx/data/kdoc/'\n",
    "save_metrics = 'metrics/'\n",
    "configs = 'configs/'\n",
    "annotations = {}"
   ]
  },
  {
   "cell_type": "code",
   "execution_count": 10,
   "metadata": {},
   "outputs": [],
   "source": [
    "def compute_metrics(path):\n",
    "    all_vids = glob.glob(path+'*.mp4')\n",
    "    print('Available assets in folder:', all_vids)\n",
    "    \n",
    "    for vidpath in all_vids:\n",
    "        vidname = os.path.split(vidpath)[-1].split(\".\")[0]\n",
    "        cmd1 = \"ffmpeg -hide_banner -threads 4 -i \" + '%s' % vidpath + \" -vf videometrics=config_file=utils/videometrics.cfg -f null -\"\n",
    "        cmd2 = 'paste -d\",\" luma_avg.dat kld_hist_2frames.dat horizontal_black_values.dat crU_change_ratio.dat avgG.dat kld_hist_pattern.dat time.dat > ./metrics/%s.csv' % vidname\n",
    "        cmd3 = 'rm -rf *.dat'\n",
    "\n",
    "        t1 = datetime.now()\n",
    "        call(cmd1, shell=True)\n",
    "        t2 = datetime.now()\n",
    "        call(cmd2, shell=True)\n",
    "        clean(vidname)\n",
    "        call(cmd3, shell=True)\n",
    "        \n",
    "        add_labels(vidname)\n",
    "        \n",
    "        print('Preprocessing done for %s' %vidname)\n",
    "        print('Time taken for metrics computation = %s' %str(t2-t1))           "
   ]
  },
  {
   "cell_type": "code",
   "execution_count": 26,
   "metadata": {},
   "outputs": [],
   "source": [
    "def clean(csvname):\n",
    "    metrics_df = pd.read_csv(save_metrics+csvname+'.csv', names=cols)\n",
    "    metrics_df = metrics_df.dropna()\n",
    "    metrics_df.to_csv(save_metrics+csvname+'.csv', header=True, index=False)\n",
    "    print('Cleaning done for %s' % csvname)\n",
    "    return metrics_df"
   ]
  },
  {
   "cell_type": "code",
   "execution_count": 24,
   "metadata": {
    "code_folding": []
   },
   "outputs": [],
   "source": [
    "def add_labels(csvname):\n",
    "    \n",
    "    df = pd.read_csv(save_metrics+csvname+'.csv')\n",
    "    \n",
    "    cfgname = configs+csvname+'.cfg'\n",
    "    with open(cfgname) as f:\n",
    "        data = json.load(f)\n",
    "    ads = data[\"ads\"]\n",
    "    \n",
    "    ad_starts, ad_stops = ads[0::2], ads[1::2]\n",
    "    allframes = list(range(len(df.index)))\n",
    "    labels = []\n",
    "    \n",
    "    for _, val in enumerate(allframes):\n",
    "        frameLabel = 0\n",
    "        for i in range(len(ad_starts)):\n",
    "            if ad_starts[i] <= val <= ad_stops[i]:\n",
    "                frameLabel = 1\n",
    "        labels.append(frameLabel)\n",
    "    df['Label'] = labels\n",
    "    df.to_csv(save_metrics+csvname+'.csv', index=False, header=True)\n",
    "    print('Label added for %s' %csvname)"
   ]
  },
  {
   "cell_type": "code",
   "execution_count": 3,
   "metadata": {
    "ExecuteTime": {
     "end_time": "2020-02-12T18:16:17.527708Z",
     "start_time": "2020-02-12T18:16:17.471520Z"
    }
   },
   "outputs": [],
   "source": [
    "# Code to clean the jsons and collect all the annotation jsons\n",
    "\n",
    "import json\n",
    "import pandas as pd\n",
    "\n",
    "df = pd.read_csv('Annotation sheet - Sheet1.csv', usecols=['Asset Name', 'Annotation JSON'])\n",
    "df = df.dropna() # Empty columns dropped\n",
    "\n",
    "names = df['Asset Name']\n",
    "configs = df['Annotation JSON']\n",
    "names, configs = names[1:], configs[1:] # First value removed\n",
    "\n",
    "names = [i.split('/')[0] for i in names]\n",
    "\n",
    "# Logic to check for incorrect jsons\n",
    "new_configs = []\n",
    "for index, value in enumerate(configs):\n",
    "    try:\n",
    "        new_configs.append(json.loads(value))\n",
    "    except Exception as e:\n",
    "        print(f'Error is {e}')\n",
    "        print(f'Problematic:\\n {index+2}: {names[index]} -> {value}\\n')\n",
    "\n",
    "annotations = dict(zip(names, configs))\n",
    "# print(annotations)"
   ]
  },
  {
   "cell_type": "markdown",
   "metadata": {
    "heading_collapsed": true
   },
   "source": [
    "### Problems in annotations:\n",
    "\n",
    "Problematic:\n",
    " 19: 34_1252_1576400400_1576404000 -> {\"trans\":[31520,56042,56045,108401,108404,111092,111094,],\n",
    "\"ads\":[3152136494,56046,58996,82219,87014,108405,111090,]}\n",
    "\n",
    "Problematic:\n",
    " 24: 34_134388_1576654200_1576656000 -> {\"trans\":[25751,25752,50999,51000,],\n",
    "\"ads\":[25753,31299,51001,55799,]}\n",
    "\n",
    "Problematic:\n",
    " 32: 34_149619_1576425600_1576429200 -> {\"trans\":[2104,2105,27351,27354,52045,52047,52946,52948,79247,79248,81773,,81775,105274,105275,110062,110065],\n",
    "\"ads\":[0,2405,27355,30808,52048,56543,79249,84649,105276,110375]}\n",
    "\n",
    "Problematic:\n",
    " 34: 34_159691_1576404000_1576411200 -> {\"trans\":[3093,3098,72096,72101,74345,74350,96229,96231,120461,121362,125245,125250,145941,145943,148633,148638,163703,163709,165953,165958,186387,186393,188637,188643],\n",
    "\"ads\":[847,3092,25403,27916,72102,74343,96232,98930,121363,125244,145944,148632,163710,165952,186394,188636]\n",
    "\n",
    "Problematic:\n",
    " 39: 34_163831_1576440000_1576441800 -> {\"trans\":[685,686,29970,29977,37171,37178],\n",
    "\"ads\":[0,684,29978,37170,]}\n",
    "\n",
    "Problematic:\n",
    " 40: 34_163831_1576441800_1576443600 -> {\"trans\":[ 10698,10700,29545,42340,42343],\n",
    "\"ads\":[10700,14142,29545,33437, 42344, 44885,]}\n",
    "\n",
    "Problematic:\n",
    " 42: 34_174689_1576429200_1576432800 -> {\"trans\":[2075,2077,43606,43610,63715,63718,68052,80717,80719,104997,104999,],\n",
    "\"ads\":[0,2074,43611,46750,63719,68207,80720,85662,105000, 110659]}\n",
    "\n",
    "Problematic:\n",
    " 43: 34_174689_1576515600_1576519200 -> {\"trans\":[66775,66777,88259,88261,99557,99560,107938,107940,111840. 111858],\n",
    "\"ads\":[ 66778, 70375,88262,93060,99561,103121,107941,111839]}\n",
    "\n",
    "Problematic:\n",
    " 48: 34_174998_1576544400_1576546200 -> {\"trans\":[3672,3689,8478, 8485,26876, 26878,56210,56212,],\n",
    "\"ads\":[0,3671,8026,8477,26879,32245, 56213,59635]}\n",
    "\n",
    "Problematic:\n",
    " 50: 34_1842_1576584000_1576586700 -> {\"trans\":[32402,32409,64761,64763,],\n",
    "\"ads\":[32410,36003,61614,64760]}\n",
    "\n",
    "Problematic:\n",
    " 51: 34_1842_1576609200_1576612800 -> {\"trans\":[2907,2909,6056,26729, 26732,43110,43112,67567,67570, 84760,84763],\n",
    "\"ads\"[0,2906,6057,7706, 26733,32126,43113,50162,67570,72970,84764,90613]}\n",
    "\n",
    "Problematic:\n",
    " 63: 34_206185_1576546200_1576548000 -> {\"trans\":[2207,2209,26721,26723,52462,52465,54796,54798,54831,54964,57864,57882],\n",
    "\"ads\"[2210,8806,26724,33461,52466,57865]}\n",
    "\n",
    "Problematic:\n",
    " 68: 34_225819_1576375200_1576377000 -> nan\n",
    "\n",
    "Problematic:\n",
    " 72: 34_229339_1576373400_1576375200 -> nan\n",
    "\n",
    "Problematic:\n",
    " 83: 34_256694_1576450800_1576454400 -> {\"trans\":[3010,3028,25370,25371,51099,51102,106519,106521,113419,113615],\n",
    "\"ads\":[25372,32088,51103,58148,106522,]}\n",
    "\n",
    "###Iteration 2:\n",
    "\n",
    "Error is Expecting ':' delimiter: line 2 column 6 (char 82)\n",
    "Problematic:\n",
    " 51: 34_1842_1576609200_1576612800 -> {\"trans\":[2907,2909,6056,26729, 26732,43110,43112,67567,67570, 84760,84763],\n",
    "\"ads\"[0,2906,6057,7706, 26733,32126,43113,50162,67570,72970,84764,90613]}\n",
    "\n",
    "Error is Expecting ':' delimiter: line 2 column 6 (char 87)\n",
    "Problematic:\n",
    " 63: 34_206185_1576546200_1576548000 -> {\"trans\":[2207,2209,26721,26723,52462,52465,54796,54798,54831,54964,57864,57882],\n",
    "\"ads\"[2210,8806,26724,33461,52466,57865]}\n",
    "\n",
    "Error is the JSON object must be str, bytes or bytearray, not 'float'\n",
    "Problematic:\n",
    " 68: 34_225819_1576375200_1576377000 -> nan\n",
    "\n",
    "Error is the JSON object must be str, bytes or bytearray, not 'float'\n",
    "Problematic:\n",
    " 72: 34_229339_1576373400_1576375200 -> nan"
   ]
  },
  {
   "cell_type": "code",
   "execution_count": 25,
   "metadata": {
    "hidden": true
   },
   "outputs": [
    {
     "name": "stdout",
     "output_type": "stream",
     "text": [
      "Label added for 62156\n"
     ]
    }
   ],
   "source": [
    "if __name__ == '__main__':\n",
    "#     compute_metrics(aztv)\n",
    "#  compute_metrics(kdoc)\n",
    "    add_labels('62156')"
   ]
  }
 ],
 "metadata": {
  "kernelspec": {
   "display_name": "Python 3",
   "language": "python",
   "name": "python3"
  },
  "language_info": {
   "codemirror_mode": {
    "name": "ipython",
    "version": 3
   },
   "file_extension": ".py",
   "mimetype": "text/x-python",
   "name": "python",
   "nbconvert_exporter": "python",
   "pygments_lexer": "ipython3",
   "version": "3.6.9"
  },
  "toc": {
   "base_numbering": 1,
   "nav_menu": {},
   "number_sections": true,
   "sideBar": true,
   "skip_h1_title": false,
   "title_cell": "Table of Contents",
   "title_sidebar": "Contents",
   "toc_cell": false,
   "toc_position": {},
   "toc_section_display": true,
   "toc_window_display": false
  },
  "varInspector": {
   "cols": {
    "lenName": 16,
    "lenType": 16,
    "lenVar": 40
   },
   "kernels_config": {
    "python": {
     "delete_cmd_postfix": "",
     "delete_cmd_prefix": "del ",
     "library": "var_list.py",
     "varRefreshCmd": "print(var_dic_list())"
    },
    "r": {
     "delete_cmd_postfix": ") ",
     "delete_cmd_prefix": "rm(",
     "library": "var_list.r",
     "varRefreshCmd": "cat(var_dic_list()) "
    }
   },
   "position": {
    "height": "240px",
    "left": "1001px",
    "right": "20px",
    "top": "120px",
    "width": "345px"
   },
   "types_to_exclude": [
    "module",
    "function",
    "builtin_function_or_method",
    "instance",
    "_Feature"
   ],
   "window_display": false
  }
 },
 "nbformat": 4,
 "nbformat_minor": 2
}
